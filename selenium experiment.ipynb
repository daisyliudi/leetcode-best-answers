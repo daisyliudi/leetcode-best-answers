{
 "cells": [
  {
   "cell_type": "markdown",
   "metadata": {
    "collapsed": false
   },
   "source": [
    "To sort the answers in the discussion forum by votes, it appears we have to log in first...\n",
    "So we use selenium to log in to the site and click on sort by most votes.\n",
    "\n",
    "Therefore to use this script you need to use your username and password to login."
   ]
  },
  {
   "cell_type": "code",
   "execution_count": 1,
   "metadata": {
    "collapsed": true
   },
   "outputs": [],
   "source": [
    "import os\n",
    "import time"
   ]
  },
  {
   "cell_type": "code",
   "execution_count": 2,
   "metadata": {
    "collapsed": true
   },
   "outputs": [],
   "source": [
    "import requests"
   ]
  },
  {
   "cell_type": "code",
   "execution_count": 3,
   "metadata": {
    "collapsed": false
   },
   "outputs": [],
   "source": [
    "from selenium import webdriver\n",
    "from selenium.webdriver.common.keys import Keys\n",
    "from pyvirtualdisplay import Display"
   ]
  },
  {
   "cell_type": "code",
   "execution_count": 4,
   "metadata": {
    "collapsed": true
   },
   "outputs": [],
   "source": [
    "from pymongo import MongoClient"
   ]
  },
  {
   "cell_type": "code",
   "execution_count": 5,
   "metadata": {
    "collapsed": true
   },
   "outputs": [],
   "source": [
    "HOST_IP = 'localhost'\n",
    "DB_PORT = 27017\n",
    "client = MongoClient(HOST_IP, DB_PORT)\n",
    "db = client.leetcode\n",
    "collection = db.answers"
   ]
  },
  {
   "cell_type": "code",
   "execution_count": 6,
   "metadata": {
    "collapsed": true
   },
   "outputs": [],
   "source": [
    "my_username = \"@gmail.com\"\n",
    "my_password = \"\""
   ]
  },
  {
   "cell_type": "code",
   "execution_count": 7,
   "metadata": {
    "collapsed": true
   },
   "outputs": [],
   "source": [
    "first_select = True"
   ]
  },
  {
   "cell_type": "code",
   "execution_count": 8,
   "metadata": {
    "collapsed": true
   },
   "outputs": [],
   "source": [
    "def get_answer_urls(url):\n",
    "    \"\"\" return at most 10 top voted answers\n",
    "    \"\"\"\n",
    "    global first_select\n",
    "    driver.get(url)\n",
    "    time.sleep(2)\n",
    "    dropdown_buttons = driver.find_elements_by_css_selector('button.dropdown-toggle')\n",
    "    assert len(dropdown_buttons) == 2\n",
    "    dropdown_buttons[1].click()\n",
    "    time.sleep(2)\n",
    "    if first_select:\n",
    "        driver.find_element_by_css_selector('a.most_votes').click()\n",
    "        time.sleep(5)\n",
    "        first_select = False\n",
    "    elements = driver.find_elements_by_css_selector('ul.topic-list h2.title > a')[:10]\n",
    "    return [ele.get_attribute(\"href\") for ele in elements]"
   ]
  },
  {
   "cell_type": "code",
   "execution_count": 9,
   "metadata": {
    "collapsed": true
   },
   "outputs": [],
   "source": [
    "def get_answer(url):\n",
    "    \"\"\" element.get_attribute('innerHTML')\n",
    "    elem.get_attribute(\"outerHTML\")\n",
    "    \"\"\"\n",
    "    answer = {}\n",
    "    driver.get(url)\n",
    "    time.sleep(2)\n",
    "    up_button = driver.find_element_by_css_selector('li i.fa-angle-double-up')\n",
    "    up_button.click()\n",
    "    driver.implicitly_wait(3)\n",
    "    answer[\"url\"] = url\n",
    "    author_element = driver.find_element_by_css_selector(\"span.username a\")\n",
    "    answer[\"author\"] = author_element.text\n",
    "    answer[\"author_url\"] = author_element.get_attribute('href')\n",
    "    vote_element = driver.find_element_by_css_selector(\"div.vote-count\")\n",
    "    answer[\"vote\"] = int(vote_element.text)\n",
    "    content_element = driver.find_element_by_css_selector(\"div.answer .content\")\n",
    "    answer[\"content\"] = content_element.get_attribute('outerHTML')\n",
    "    return answer"
   ]
  },
  {
   "cell_type": "code",
   "execution_count": 10,
   "metadata": {
    "collapsed": true
   },
   "outputs": [],
   "source": [
    "def login(username, password):\n",
    "    username = driver.find_element_by_id(\"id_login\")\n",
    "    password = driver.find_element_by_id(\"id_password\")\n",
    "    username.send_keys(my_username)\n",
    "    password.send_keys(my_password)\n",
    "    driver.find_element_by_css_selector('button.btn-primary').click()"
   ]
  },
  {
   "cell_type": "code",
   "execution_count": 14,
   "metadata": {
    "collapsed": false
   },
   "outputs": [
    {
     "ename": "WebDriverException",
     "evalue": "Message: 'chromedriver_mac' executable needs to be in PATH. Please see https://sites.google.com/a/chromium.org/chromedriver/home\n",
     "output_type": "error",
     "traceback": [
      "\u001b[0;31m---------------------------------------------------------------------------\u001b[0m",
      "\u001b[0;31mWebDriverException\u001b[0m                        Traceback (most recent call last)",
      "\u001b[0;32m<ipython-input-14-b47baa7c260b>\u001b[0m in \u001b[0;36m<module>\u001b[0;34m()\u001b[0m\n\u001b[1;32m      4\u001b[0m \u001b[0mdisplay\u001b[0m \u001b[0;34m=\u001b[0m \u001b[0mDisplay\u001b[0m\u001b[0;34m(\u001b[0m\u001b[0mvisible\u001b[0m\u001b[0;34m=\u001b[0m\u001b[0;36m0\u001b[0m\u001b[0;34m,\u001b[0m \u001b[0msize\u001b[0m\u001b[0;34m=\u001b[0m\u001b[0;34m(\u001b[0m\u001b[0;36m1800\u001b[0m\u001b[0;34m,\u001b[0m \u001b[0;36m900\u001b[0m\u001b[0;34m)\u001b[0m\u001b[0;34m)\u001b[0m\u001b[0;34m\u001b[0m\u001b[0m\n\u001b[1;32m      5\u001b[0m \u001b[0mdisplay\u001b[0m\u001b[0;34m.\u001b[0m\u001b[0mstart\u001b[0m\u001b[0;34m(\u001b[0m\u001b[0;34m)\u001b[0m\u001b[0;34m\u001b[0m\u001b[0m\n\u001b[0;32m----> 6\u001b[0;31m \u001b[0mdriver\u001b[0m \u001b[0;34m=\u001b[0m \u001b[0mwebdriver\u001b[0m\u001b[0;34m.\u001b[0m\u001b[0mChrome\u001b[0m\u001b[0;34m(\u001b[0m\u001b[0mchrome_driver\u001b[0m\u001b[0;34m)\u001b[0m\u001b[0;34m\u001b[0m\u001b[0m\n\u001b[0m\u001b[1;32m      7\u001b[0m \u001b[0mdriver\u001b[0m\u001b[0;34m.\u001b[0m\u001b[0mset_window_size\u001b[0m\u001b[0;34m(\u001b[0m\u001b[0;36m1280\u001b[0m\u001b[0;34m,\u001b[0m \u001b[0;36m800\u001b[0m\u001b[0;34m)\u001b[0m\u001b[0;34m\u001b[0m\u001b[0m\n\u001b[1;32m      8\u001b[0m \u001b[0mdriver\u001b[0m\u001b[0;34m.\u001b[0m\u001b[0mget\u001b[0m\u001b[0;34m(\u001b[0m\u001b[0;34m\"https://discuss.leetcode.com/category/8/oj\"\u001b[0m\u001b[0;34m)\u001b[0m\u001b[0;34m\u001b[0m\u001b[0m\n",
      "\u001b[0;32m/Library/Python/2.7/site-packages/selenium/webdriver/chrome/webdriver.pyc\u001b[0m in \u001b[0;36m__init__\u001b[0;34m(self, executable_path, port, chrome_options, service_args, desired_capabilities, service_log_path)\u001b[0m\n\u001b[1;32m     60\u001b[0m             \u001b[0mservice_args\u001b[0m\u001b[0;34m=\u001b[0m\u001b[0mservice_args\u001b[0m\u001b[0;34m,\u001b[0m\u001b[0;34m\u001b[0m\u001b[0m\n\u001b[1;32m     61\u001b[0m             log_path=service_log_path)\n\u001b[0;32m---> 62\u001b[0;31m         \u001b[0mself\u001b[0m\u001b[0;34m.\u001b[0m\u001b[0mservice\u001b[0m\u001b[0;34m.\u001b[0m\u001b[0mstart\u001b[0m\u001b[0;34m(\u001b[0m\u001b[0;34m)\u001b[0m\u001b[0;34m\u001b[0m\u001b[0m\n\u001b[0m\u001b[1;32m     63\u001b[0m \u001b[0;34m\u001b[0m\u001b[0m\n\u001b[1;32m     64\u001b[0m         \u001b[0;32mtry\u001b[0m\u001b[0;34m:\u001b[0m\u001b[0;34m\u001b[0m\u001b[0m\n",
      "\u001b[0;32m/Library/Python/2.7/site-packages/selenium/webdriver/common/service.pyc\u001b[0m in \u001b[0;36mstart\u001b[0;34m(self)\u001b[0m\n\u001b[1;32m     69\u001b[0m                 raise WebDriverException(\n\u001b[1;32m     70\u001b[0m                     \"'%s' executable needs to be in PATH. %s\" % (\n\u001b[0;32m---> 71\u001b[0;31m                         os.path.basename(self.path), self.start_error_message)\n\u001b[0m\u001b[1;32m     72\u001b[0m                 )\n\u001b[1;32m     73\u001b[0m             \u001b[0;32melif\u001b[0m \u001b[0merr\u001b[0m\u001b[0;34m.\u001b[0m\u001b[0merrno\u001b[0m \u001b[0;34m==\u001b[0m \u001b[0merrno\u001b[0m\u001b[0;34m.\u001b[0m\u001b[0mEACCES\u001b[0m\u001b[0;34m:\u001b[0m\u001b[0;34m\u001b[0m\u001b[0m\n",
      "\u001b[0;31mWebDriverException\u001b[0m: Message: 'chromedriver_mac' executable needs to be in PATH. Please see https://sites.google.com/a/chromium.org/chromedriver/home\n"
     ]
    }
   ],
   "source": [
    "#chrome_driver = \"~/hub/personal/leetcode-best-answers/chromedriver\"\n",
    "chrome_driver = \"~/Awesome/github/leetcode-best-answers/chromedriver_mac\"\n",
    "os.environ[\"webdriver.chrome.driver\"] = chrome_driver\n",
    "display = Display(visible=0, size=(1800, 900))\n",
    "display.start()\n",
    "driver = webdriver.Chrome(chrome_driver)\n",
    "driver.set_window_size(1280, 800)\n",
    "driver.get(\"https://discuss.leetcode.com/category/8/oj\")\n",
    "time.sleep(2)\n",
    "driver.find_element_by_link_text(\"Login\").click()\n",
    "time.sleep(2)\n",
    "\n",
    "# your username and password\n",
    "login(username, password)\n",
    "\n",
    "time.sleep(2)\n",
    "\n",
    "driver.get(\"https://discuss.leetcode.com/category/8/oj\")\n",
    "\n",
    "time.sleep(2)\n",
    "links = [link.get_attribute(\"href\") for link in driver.find_elements_by_css_selector('ul.categories h2 a')]\n",
    "with open('urls.txt', 'a') as urls_file:\n",
    "    for index, link in enumerate(links):\n",
    "        if index < 320:\n",
    "            continue\n",
    "        answer_urls = get_answer_urls(link)\n",
    "        answer_count = len(answer_urls)\n",
    "        urls_file.write(\"{}:{}\\n\".format(str(index), str(answer_count)))\n",
    "        for answer_url in answer_urls:\n",
    "            urls_file.write(answer_url + '\\n')\n",
    "        time.sleep(2)\n",
    "\n",
    "driver.quit()\n",
    "display.stop()"
   ]
  },
  {
   "cell_type": "code",
   "execution_count": null,
   "metadata": {
    "collapsed": true
   },
   "outputs": [],
   "source": [
    "\"\"\"\n",
    "# could be useful in the future\n",
    "cookies = driver.get_cookies()\n",
    "headers = {\n",
    "\"User-Agent\":\n",
    "    \"Mozilla/5.0 (Windows NT 6.3; WOW64) AppleWebKit/537.36 (KHTML, like Gecko) Chrome/44.0.2403.157 Safari/537.36\"\n",
    "}\n",
    "s = requests.session()\n",
    "s.headers.update(headers)\n",
    "\n",
    "for cookie in driver.get_cookies():\n",
    "    c = {cookie['name']: cookie['value']}\n",
    "    s.cookies.update(c)\n",
    "\"\"\""
   ]
  }
 ],
 "metadata": {
  "kernelspec": {
   "display_name": "Python 2",
   "language": "python",
   "name": "python2"
  },
  "language_info": {
   "codemirror_mode": {
    "name": "ipython",
    "version": 2
   },
   "file_extension": ".py",
   "mimetype": "text/x-python",
   "name": "python",
   "nbconvert_exporter": "python",
   "pygments_lexer": "ipython2",
   "version": "2.7.10"
  }
 },
 "nbformat": 4,
 "nbformat_minor": 0
}
